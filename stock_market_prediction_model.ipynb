{
 "cells": [
  {
   "cell_type": "code",
   "execution_count": 1,
   "id": "37b2f378",
   "metadata": {},
   "outputs": [],
   "source": [
    "import yfinance as yf"
   ]
  },
  {
   "cell_type": "code",
   "execution_count": 2,
   "id": "8a9e0378",
   "metadata": {},
   "outputs": [],
   "source": [
    "sp500 = yf.Ticker(\"LEG\")"
   ]
  },
  {
   "cell_type": "code",
   "execution_count": 3,
   "id": "69d3fe97",
   "metadata": {},
   "outputs": [],
   "source": [
    "sp500 = sp500.history(period=\"max\")"
   ]
  },
  {
   "cell_type": "code",
   "execution_count": 4,
   "id": "3fed03a0",
   "metadata": {},
   "outputs": [
    {
     "data": {
      "text/html": [
       "<div>\n",
       "<style scoped>\n",
       "    .dataframe tbody tr th:only-of-type {\n",
       "        vertical-align: middle;\n",
       "    }\n",
       "\n",
       "    .dataframe tbody tr th {\n",
       "        vertical-align: top;\n",
       "    }\n",
       "\n",
       "    .dataframe thead th {\n",
       "        text-align: right;\n",
       "    }\n",
       "</style>\n",
       "<table border=\"1\" class=\"dataframe\">\n",
       "  <thead>\n",
       "    <tr style=\"text-align: right;\">\n",
       "      <th></th>\n",
       "      <th>Open</th>\n",
       "      <th>High</th>\n",
       "      <th>Low</th>\n",
       "      <th>Close</th>\n",
       "      <th>Volume</th>\n",
       "      <th>Dividends</th>\n",
       "      <th>Stock Splits</th>\n",
       "    </tr>\n",
       "    <tr>\n",
       "      <th>Date</th>\n",
       "      <th></th>\n",
       "      <th></th>\n",
       "      <th></th>\n",
       "      <th></th>\n",
       "      <th></th>\n",
       "      <th></th>\n",
       "      <th></th>\n",
       "    </tr>\n",
       "  </thead>\n",
       "  <tbody>\n",
       "    <tr>\n",
       "      <th>1980-03-17 00:00:00-05:00</th>\n",
       "      <td>0.000000</td>\n",
       "      <td>0.162655</td>\n",
       "      <td>0.160961</td>\n",
       "      <td>0.160961</td>\n",
       "      <td>156000</td>\n",
       "      <td>0.0</td>\n",
       "      <td>0.0</td>\n",
       "    </tr>\n",
       "    <tr>\n",
       "      <th>1980-03-18 00:00:00-05:00</th>\n",
       "      <td>0.000000</td>\n",
       "      <td>0.160961</td>\n",
       "      <td>0.157572</td>\n",
       "      <td>0.157572</td>\n",
       "      <td>43200</td>\n",
       "      <td>0.0</td>\n",
       "      <td>0.0</td>\n",
       "    </tr>\n",
       "    <tr>\n",
       "      <th>1980-03-19 00:00:00-05:00</th>\n",
       "      <td>0.000000</td>\n",
       "      <td>0.157572</td>\n",
       "      <td>0.155878</td>\n",
       "      <td>0.155878</td>\n",
       "      <td>72000</td>\n",
       "      <td>0.0</td>\n",
       "      <td>0.0</td>\n",
       "    </tr>\n",
       "    <tr>\n",
       "      <th>1980-03-20 00:00:00-05:00</th>\n",
       "      <td>0.000000</td>\n",
       "      <td>0.154184</td>\n",
       "      <td>0.152490</td>\n",
       "      <td>0.154184</td>\n",
       "      <td>16800</td>\n",
       "      <td>0.0</td>\n",
       "      <td>0.0</td>\n",
       "    </tr>\n",
       "    <tr>\n",
       "      <th>1980-03-21 00:00:00-05:00</th>\n",
       "      <td>0.000000</td>\n",
       "      <td>0.154184</td>\n",
       "      <td>0.154184</td>\n",
       "      <td>0.154184</td>\n",
       "      <td>12000</td>\n",
       "      <td>0.0</td>\n",
       "      <td>0.0</td>\n",
       "    </tr>\n",
       "    <tr>\n",
       "      <th>...</th>\n",
       "      <td>...</td>\n",
       "      <td>...</td>\n",
       "      <td>...</td>\n",
       "      <td>...</td>\n",
       "      <td>...</td>\n",
       "      <td>...</td>\n",
       "      <td>...</td>\n",
       "    </tr>\n",
       "    <tr>\n",
       "      <th>2023-10-02 00:00:00-04:00</th>\n",
       "      <td>25.270000</td>\n",
       "      <td>25.450001</td>\n",
       "      <td>24.889999</td>\n",
       "      <td>25.090000</td>\n",
       "      <td>1120800</td>\n",
       "      <td>0.0</td>\n",
       "      <td>0.0</td>\n",
       "    </tr>\n",
       "    <tr>\n",
       "      <th>2023-10-03 00:00:00-04:00</th>\n",
       "      <td>24.910000</td>\n",
       "      <td>25.030001</td>\n",
       "      <td>24.410000</td>\n",
       "      <td>24.549999</td>\n",
       "      <td>1122500</td>\n",
       "      <td>0.0</td>\n",
       "      <td>0.0</td>\n",
       "    </tr>\n",
       "    <tr>\n",
       "      <th>2023-10-04 00:00:00-04:00</th>\n",
       "      <td>24.600000</td>\n",
       "      <td>24.730000</td>\n",
       "      <td>24.260000</td>\n",
       "      <td>24.469999</td>\n",
       "      <td>697600</td>\n",
       "      <td>0.0</td>\n",
       "      <td>0.0</td>\n",
       "    </tr>\n",
       "    <tr>\n",
       "      <th>2023-10-05 00:00:00-04:00</th>\n",
       "      <td>24.410000</td>\n",
       "      <td>24.580000</td>\n",
       "      <td>24.250000</td>\n",
       "      <td>24.430000</td>\n",
       "      <td>709900</td>\n",
       "      <td>0.0</td>\n",
       "      <td>0.0</td>\n",
       "    </tr>\n",
       "    <tr>\n",
       "      <th>2023-10-06 00:00:00-04:00</th>\n",
       "      <td>24.209999</td>\n",
       "      <td>24.879999</td>\n",
       "      <td>24.160000</td>\n",
       "      <td>24.820000</td>\n",
       "      <td>917500</td>\n",
       "      <td>0.0</td>\n",
       "      <td>0.0</td>\n",
       "    </tr>\n",
       "  </tbody>\n",
       "</table>\n",
       "<p>10983 rows × 7 columns</p>\n",
       "</div>"
      ],
      "text/plain": [
       "                                Open       High        Low      Close  \\\n",
       "Date                                                                    \n",
       "1980-03-17 00:00:00-05:00   0.000000   0.162655   0.160961   0.160961   \n",
       "1980-03-18 00:00:00-05:00   0.000000   0.160961   0.157572   0.157572   \n",
       "1980-03-19 00:00:00-05:00   0.000000   0.157572   0.155878   0.155878   \n",
       "1980-03-20 00:00:00-05:00   0.000000   0.154184   0.152490   0.154184   \n",
       "1980-03-21 00:00:00-05:00   0.000000   0.154184   0.154184   0.154184   \n",
       "...                              ...        ...        ...        ...   \n",
       "2023-10-02 00:00:00-04:00  25.270000  25.450001  24.889999  25.090000   \n",
       "2023-10-03 00:00:00-04:00  24.910000  25.030001  24.410000  24.549999   \n",
       "2023-10-04 00:00:00-04:00  24.600000  24.730000  24.260000  24.469999   \n",
       "2023-10-05 00:00:00-04:00  24.410000  24.580000  24.250000  24.430000   \n",
       "2023-10-06 00:00:00-04:00  24.209999  24.879999  24.160000  24.820000   \n",
       "\n",
       "                            Volume  Dividends  Stock Splits  \n",
       "Date                                                         \n",
       "1980-03-17 00:00:00-05:00   156000        0.0           0.0  \n",
       "1980-03-18 00:00:00-05:00    43200        0.0           0.0  \n",
       "1980-03-19 00:00:00-05:00    72000        0.0           0.0  \n",
       "1980-03-20 00:00:00-05:00    16800        0.0           0.0  \n",
       "1980-03-21 00:00:00-05:00    12000        0.0           0.0  \n",
       "...                            ...        ...           ...  \n",
       "2023-10-02 00:00:00-04:00  1120800        0.0           0.0  \n",
       "2023-10-03 00:00:00-04:00  1122500        0.0           0.0  \n",
       "2023-10-04 00:00:00-04:00   697600        0.0           0.0  \n",
       "2023-10-05 00:00:00-04:00   709900        0.0           0.0  \n",
       "2023-10-06 00:00:00-04:00   917500        0.0           0.0  \n",
       "\n",
       "[10983 rows x 7 columns]"
      ]
     },
     "execution_count": 4,
     "metadata": {},
     "output_type": "execute_result"
    }
   ],
   "source": [
    "sp500"
   ]
  },
  {
   "cell_type": "code",
   "execution_count": 5,
   "id": "c878f536",
   "metadata": {},
   "outputs": [
    {
     "data": {
      "text/plain": [
       "DatetimeIndex(['1980-03-17 00:00:00-05:00', '1980-03-18 00:00:00-05:00',\n",
       "               '1980-03-19 00:00:00-05:00', '1980-03-20 00:00:00-05:00',\n",
       "               '1980-03-21 00:00:00-05:00', '1980-03-24 00:00:00-05:00',\n",
       "               '1980-03-25 00:00:00-05:00', '1980-03-26 00:00:00-05:00',\n",
       "               '1980-03-27 00:00:00-05:00', '1980-03-28 00:00:00-05:00',\n",
       "               ...\n",
       "               '2023-09-25 00:00:00-04:00', '2023-09-26 00:00:00-04:00',\n",
       "               '2023-09-27 00:00:00-04:00', '2023-09-28 00:00:00-04:00',\n",
       "               '2023-09-29 00:00:00-04:00', '2023-10-02 00:00:00-04:00',\n",
       "               '2023-10-03 00:00:00-04:00', '2023-10-04 00:00:00-04:00',\n",
       "               '2023-10-05 00:00:00-04:00', '2023-10-06 00:00:00-04:00'],\n",
       "              dtype='datetime64[ns, America/New_York]', name='Date', length=10983, freq=None)"
      ]
     },
     "execution_count": 5,
     "metadata": {},
     "output_type": "execute_result"
    }
   ],
   "source": [
    "sp500.index"
   ]
  },
  {
   "cell_type": "code",
   "execution_count": 6,
   "id": "578bcabd",
   "metadata": {},
   "outputs": [
    {
     "data": {
      "text/plain": [
       "<AxesSubplot:xlabel='Date'>"
      ]
     },
     "execution_count": 6,
     "metadata": {},
     "output_type": "execute_result"
    },
    {
     "data": {
      "image/png": "[encoded data removed]",
      "text/plain": [
       "<Figure size 432x288 with 1 Axes>"
      ]
     },
     "metadata": {
      "needs_background": "light"
     },
     "output_type": "display_data"
    }
   ],
   "source": [
    "sp500.plot.line(y=\"Close\", use_index=True)"
   ]
  },
  {
   "cell_type": "code",
   "execution_count": 7,
   "id": "19fdb453",
   "metadata": {},
   "outputs": [],
   "source": [
    "del sp500[\"Dividends\"]\n",
    "del sp500[\"Stock Splits\"]"
   ]
  },
  {
   "cell_type": "code",
   "execution_count": 8,
   "id": "126c92c8",
   "metadata": {},
   "outputs": [],
   "source": [
    "sp500[\"Tomorrow\"] = sp500[\"Close\"].shift(-1)"
   ]
  },
  {
   "cell_type": "code",
   "execution_count": 9,
   "id": "b77479fb",
   "metadata": {},
   "outputs": [],
   "source": [
    "sp500[\"Target\"] =  (sp500[\"Tomorrow\"] > sp500[\"Close\"]).astype(int)"
   ]
  },
  {
   "cell_type": "code",
   "execution_count": 10,
   "id": "08dc1d16",
   "metadata": {},
   "outputs": [],
   "source": [
    "sp500 = (sp500.loc[\"1990-01-01\":]).copy()"
   ]
  },
  {
   "cell_type": "code",
   "execution_count": 11,
   "id": "a4a6cc42",
   "metadata": {},
   "outputs": [
    {
     "data": {
      "text/html": [
       "<style>#sk-container-id-1 {color: black;}#sk-container-id-1 pre{padding: 0;}#sk-container-id-1 div.sk-toggleable {background-color: white;}#sk-container-id-1 label.sk-toggleable__label {cursor: pointer;display: block;width: 100%;margin-bottom: 0;padding: 0.3em;box-sizing: border-box;text-align: center;}#sk-container-id-1 label.sk-toggleable__label-arrow:before {content: \"▸\";float: left;margin-right: 0.25em;color: #696969;}#sk-container-id-1 label.sk-toggleable__label-arrow:hover:before {color: black;}#sk-container-id-1 div.sk-estimator:hover label.sk-toggleable__label-arrow:before {color: black;}#sk-container-id-1 div.sk-toggleable__content {max-height: 0;max-width: 0;overflow: hidden;text-align: left;background-color: #f0f8ff;}#sk-container-id-1 div.sk-toggleable__content pre {margin: 0.2em;color: black;border-radius: 0.25em;background-color: #f0f8ff;}#sk-container-id-1 input.sk-toggleable__control:checked~div.sk-toggleable__content {max-height: 200px;max-width: 100%;overflow: auto;}#sk-container-id-1 input.sk-toggleable__control:checked~label.sk-toggleable__label-arrow:before {content: \"▾\";}#sk-container-id-1 div.sk-estimator input.sk-toggleable__control:checked~label.sk-toggleable__label {background-color: #d4ebff;}#sk-container-id-1 div.sk-label input.sk-toggleable__control:checked~label.sk-toggleable__label {background-color: #d4ebff;}#sk-container-id-1 input.sk-hidden--visually {border: 0;clip: rect(1px 1px 1px 1px);clip: rect(1px, 1px, 1px, 1px);height: 1px;margin: -1px;overflow: hidden;padding: 0;position: absolute;width: 1px;}#sk-container-id-1 div.sk-estimator {font-family: monospace;background-color: #f0f8ff;border: 1px dotted black;border-radius: 0.25em;box-sizing: border-box;margin-bottom: 0.5em;}#sk-container-id-1 div.sk-estimator:hover {background-color: #d4ebff;}#sk-container-id-1 div.sk-parallel-item::after {content: \"\";width: 100%;border-bottom: 1px solid gray;flex-grow: 1;}#sk-container-id-1 div.sk-label:hover label.sk-toggleable__label {background-color: #d4ebff;}#sk-container-id-1 div.sk-serial::before {content: \"\";position: absolute;border-left: 1px solid gray;box-sizing: border-box;top: 0;bottom: 0;left: 50%;z-index: 0;}#sk-container-id-1 div.sk-serial {display: flex;flex-direction: column;align-items: center;background-color: white;padding-right: 0.2em;padding-left: 0.2em;position: relative;}#sk-container-id-1 div.sk-item {position: relative;z-index: 1;}#sk-container-id-1 div.sk-parallel {display: flex;align-items: stretch;justify-content: center;background-color: white;position: relative;}#sk-container-id-1 div.sk-item::before, #sk-container-id-1 div.sk-parallel-item::before {content: \"\";position: absolute;border-left: 1px solid gray;box-sizing: border-box;top: 0;bottom: 0;left: 50%;z-index: -1;}#sk-container-id-1 div.sk-parallel-item {display: flex;flex-direction: column;z-index: 1;position: relative;background-color: white;}#sk-container-id-1 div.sk-parallel-item:first-child::after {align-self: flex-end;width: 50%;}#sk-container-id-1 div.sk-parallel-item:last-child::after {align-self: flex-start;width: 50%;}#sk-container-id-1 div.sk-parallel-item:only-child::after {width: 0;}#sk-container-id-1 div.sk-dashed-wrapped {border: 1px dashed gray;margin: 0 0.4em 0.5em 0.4em;box-sizing: border-box;padding-bottom: 0.4em;background-color: white;}#sk-container-id-1 div.sk-label label {font-family: monospace;font-weight: bold;display: inline-block;line-height: 1.2em;}#sk-container-id-1 div.sk-label-container {text-align: center;}#sk-container-id-1 div.sk-container {/* jupyter's `normalize.less` sets `[hidden] { display: none; }` but bootstrap.min.css set `[hidden] { display: none !important; }` so we also need the `!important` here to be able to override the default hidden behavior on the sphinx rendered scikit-learn.org. See: https://github.com/scikit-learn/scikit-learn/issues/21755 */display: inline-block !important;position: relative;}#sk-container-id-1 div.sk-text-repr-fallback {display: none;}</style><div id=\"sk-container-id-1\" class=\"sk-top-container\"><div class=\"sk-text-repr-fallback\"><pre>RandomForestClassifier(min_samples_split=100, random_state=1)</pre><b>In a Jupyter environment, please rerun this cell to show the HTML representation or trust the notebook. <br />On GitHub, the HTML representation is unable to render, please try loading this page with nbviewer.org.</b></div><div class=\"sk-container\" hidden><div class=\"sk-item\"><div class=\"sk-estimator sk-toggleable\"><input class=\"sk-toggleable__control sk-hidden--visually\" id=\"sk-estimator-id-1\" type=\"checkbox\" checked><label for=\"sk-estimator-id-1\" class=\"sk-toggleable__label sk-toggleable__label-arrow\">RandomForestClassifier</label><div class=\"sk-toggleable__content\"><pre>RandomForestClassifier(min_samples_split=100, random_state=1)</pre></div></div></div></div></div>"
      ],
      "text/plain": [
       "RandomForestClassifier(min_samples_split=100, random_state=1)"
      ]
     },
     "execution_count": 11,
     "metadata": {},
     "output_type": "execute_result"
    }
   ],
   "source": [
    "from sklearn.ensemble import RandomForestClassifier\n",
    "model = RandomForestClassifier(n_estimators=100, min_samples_split=100, random_state=1)\n",
    "train = sp500.iloc[:-100]\n",
    "test = sp500.iloc[-100:]\n",
    "\n",
    "predictors = [\"Close\", \"Volume\", \"Open\", \"High\", \"Low\"]\n",
    "model.fit(train[predictors], train[\"Target\"])"
   ]
  },
  {
   "cell_type": "code",
   "execution_count": 12,
   "id": "7b8e0726",
   "metadata": {},
   "outputs": [
    {
     "data": {
      "text/plain": [
       "0.35106382978723405"
      ]
     },
     "execution_count": 12,
     "metadata": {},
     "output_type": "execute_result"
    }
   ],
   "source": [
    "from sklearn.metrics import precision_score\n",
    "import pandas as pd\n",
    "preds = model.predict(test[predictors])\n",
    "preds = pd.Series(preds, index=test.index)\n",
    "precision_score(test[\"Target\"],preds)"
   ]
  },
  {
   "cell_type": "code",
   "execution_count": 13,
   "id": "c6bd723f",
   "metadata": {},
   "outputs": [
    {
     "data": {
      "text/plain": [
       "<AxesSubplot:xlabel='Date'>"
      ]
     },
     "execution_count": 13,
     "metadata": {},
     "output_type": "execute_result"
    },
    {
     "data": {
      "image/png": "[encoded data removed]",
      "text/plain": [
       "<Figure size 432x288 with 1 Axes>"
      ]
     },
     "metadata": {
      "needs_background": "light"
     },
     "output_type": "display_data"
    }
   ],
   "source": [
    "combine = pd.concat([test[\"Target\"],preds], axis=1)\n",
    "combine.plot()"
   ]
  },
  {
   "cell_type": "code",
   "execution_count": 20,
   "id": "95ff9d4f",
   "metadata": {},
   "outputs": [],
   "source": [
    "def predict(train, test, predictors, model):\n",
    "    model.fit(train[predictors], train[\"Target\"])\n",
    "    preds = model.predict(test[predictors])\n",
    "    preds = pd.Series(preds, index=test.index, name=\"Predictions\")\n",
    "    combined = pd.concat([test[\"Target\"], preds], axis=1)\n",
    "    return combined"
   ]
  },
  {
   "cell_type": "code",
   "execution_count": 21,
   "id": "93b4104e",
   "metadata": {},
   "outputs": [],
   "source": [
    "def backtest(data, model, predictors, start=2500,step=250):\n",
    "    all_predictions = []\n",
    "    \n",
    "    for i in range(start, data.shape[0], step):\n",
    "        train = data.iloc[0:i].copy()\n",
    "        test = data.iloc[i:(i+step)].copy()\n",
    "        predictions = predict(train, test, predictors, model)\n",
    "        all_predictions.append(predictions)\n",
    "    return  pd.concat(all_predictions)"
   ]
  },
  {
   "cell_type": "code",
   "execution_count": 22,
   "id": "0fbec6dd",
   "metadata": {},
   "outputs": [],
   "source": [
    "predictions = backtest(sp500, model, predictors)"
   ]
  },
  {
   "cell_type": "code",
   "execution_count": 23,
   "id": "78763cc0",
   "metadata": {},
   "outputs": [
    {
     "data": {
      "text/plain": [
       "Predictions\n",
       "0    3334\n",
       "1    2673\n",
       "Name: count, dtype: int64"
      ]
     },
     "execution_count": 23,
     "metadata": {},
     "output_type": "execute_result"
    }
   ],
   "source": [
    "predictions[\"Predictions\"].value_counts()"
   ]
  },
  {
   "cell_type": "code",
   "execution_count": 25,
   "id": "b893848d",
   "metadata": {},
   "outputs": [
    {
     "data": {
      "text/plain": [
       "0.4998129442573887"
      ]
     },
     "execution_count": 25,
     "metadata": {},
     "output_type": "execute_result"
    }
   ],
   "source": [
    "precision_score(predictions[\"Target\"], predictions[\"Predictions\"])"
   ]
  },
  {
   "cell_type": "code",
   "execution_count": 26,
   "id": "d73269f1",
   "metadata": {},
   "outputs": [
    {
     "data": {
      "text/plain": [
       "Target\n",
       "1    0.506909\n",
       "0    0.493091\n",
       "Name: count, dtype: float64"
      ]
     },
     "execution_count": 26,
     "metadata": {},
     "output_type": "execute_result"
    }
   ],
   "source": [
    "predictions[\"Target\"].value_counts()/predictions.shape[0]"
   ]
  },
  {
   "cell_type": "code",
   "execution_count": 33,
   "id": "71fede8a",
   "metadata": {},
   "outputs": [],
   "source": [
    "horizons = [2,5,60, 250, 1000]\n",
    "new_predictors = []\n",
    "for horizon in horizons:\n",
    "    rolling_average = sp500.rolling(horizon).mean()\n",
    "    \n",
    "    ratio_column = f\"Close_Ratio_{horizon}\"\n",
    "    sp500[ratio_column]=  sp500[\"Close\"]/ rolling_average[\"Close\"]\n",
    "    \n",
    "    trend_column = f\"Trend_{horizon}\"\n",
    "    sp500[trend_column] = sp500.shift(1).rolling(horizon).sum()[\"Target\"]\n",
    "    new_predictors += [ratio_column, trend_column]"
   ]
  },
  {
   "cell_type": "code",
   "execution_count": 34,
   "id": "9231a913",
   "metadata": {},
   "outputs": [],
   "source": [
    "sp500 = sp500.dropna(subset=sp500.columns[sp500.columns != \"Tomorrow\"])"
   ]
  },
  {
   "cell_type": "code",
   "execution_count": 35,
   "id": "1b07a3aa",
   "metadata": {},
   "outputs": [
    {
     "data": {
      "text/html": [
       "<div>\n",
       "<style scoped>\n",
       "    .dataframe tbody tr th:only-of-type {\n",
       "        vertical-align: middle;\n",
       "    }\n",
       "\n",
       "    .dataframe tbody tr th {\n",
       "        vertical-align: top;\n",
       "    }\n",
       "\n",
       "    .dataframe thead th {\n",
       "        text-align: right;\n",
       "    }\n",
       "</style>\n",
       "<table border=\"1\" class=\"dataframe\">\n",
       "  <thead>\n",
       "    <tr style=\"text-align: right;\">\n",
       "      <th></th>\n",
       "      <th>Open</th>\n",
       "      <th>High</th>\n",
       "      <th>Low</th>\n",
       "      <th>Close</th>\n",
       "      <th>Volume</th>\n",
       "      <th>Tomorrow</th>\n",
       "      <th>Target</th>\n",
       "      <th>Close_Ratio_2</th>\n",
       "      <th>Trend_2</th>\n",
       "      <th>Close_Ratio_5</th>\n",
       "      <th>Trend_5</th>\n",
       "      <th>Close_Ratio_60</th>\n",
       "      <th>Trend_60</th>\n",
       "      <th>Close_Ratio_250</th>\n",
       "      <th>Trend_250</th>\n",
       "      <th>Close_Ratio_1000</th>\n",
       "      <th>Trend_1000</th>\n",
       "    </tr>\n",
       "    <tr>\n",
       "      <th>Date</th>\n",
       "      <th></th>\n",
       "      <th></th>\n",
       "      <th></th>\n",
       "      <th></th>\n",
       "      <th></th>\n",
       "      <th></th>\n",
       "      <th></th>\n",
       "      <th></th>\n",
       "      <th></th>\n",
       "      <th></th>\n",
       "      <th></th>\n",
       "      <th></th>\n",
       "      <th></th>\n",
       "      <th></th>\n",
       "      <th></th>\n",
       "      <th></th>\n",
       "      <th></th>\n",
       "    </tr>\n",
       "  </thead>\n",
       "  <tbody>\n",
       "    <tr>\n",
       "      <th>1993-12-14 00:00:00-05:00</th>\n",
       "      <td>4.027941</td>\n",
       "      <td>4.039823</td>\n",
       "      <td>3.968532</td>\n",
       "      <td>4.027941</td>\n",
       "      <td>228800</td>\n",
       "      <td>4.146760</td>\n",
       "      <td>1</td>\n",
       "      <td>1.000000</td>\n",
       "      <td>0.0</td>\n",
       "      <td>1.004742</td>\n",
       "      <td>2.0</td>\n",
       "      <td>0.963433</td>\n",
       "      <td>25.0</td>\n",
       "      <td>1.096202</td>\n",
       "      <td>120.0</td>\n",
       "      <td>1.858003</td>\n",
       "      <td>457.0</td>\n",
       "    </tr>\n",
       "    <tr>\n",
       "      <th>1993-12-15 00:00:00-05:00</th>\n",
       "      <td>4.063587</td>\n",
       "      <td>4.146760</td>\n",
       "      <td>4.039823</td>\n",
       "      <td>4.146760</td>\n",
       "      <td>256000</td>\n",
       "      <td>4.206172</td>\n",
       "      <td>1</td>\n",
       "      <td>1.014535</td>\n",
       "      <td>1.0</td>\n",
       "      <td>1.024061</td>\n",
       "      <td>3.0</td>\n",
       "      <td>0.991615</td>\n",
       "      <td>26.0</td>\n",
       "      <td>1.127118</td>\n",
       "      <td>120.0</td>\n",
       "      <td>1.910294</td>\n",
       "      <td>458.0</td>\n",
       "    </tr>\n",
       "    <tr>\n",
       "      <th>1993-12-16 00:00:00-05:00</th>\n",
       "      <td>4.134880</td>\n",
       "      <td>4.206172</td>\n",
       "      <td>4.099235</td>\n",
       "      <td>4.206172</td>\n",
       "      <td>180400</td>\n",
       "      <td>4.218052</td>\n",
       "      <td>1</td>\n",
       "      <td>1.007113</td>\n",
       "      <td>2.0</td>\n",
       "      <td>1.027278</td>\n",
       "      <td>3.0</td>\n",
       "      <td>1.005342</td>\n",
       "      <td>27.0</td>\n",
       "      <td>1.141713</td>\n",
       "      <td>121.0</td>\n",
       "      <td>1.935064</td>\n",
       "      <td>459.0</td>\n",
       "    </tr>\n",
       "    <tr>\n",
       "      <th>1993-12-17 00:00:00-05:00</th>\n",
       "      <td>4.194288</td>\n",
       "      <td>4.229934</td>\n",
       "      <td>4.158643</td>\n",
       "      <td>4.218052</td>\n",
       "      <td>560400</td>\n",
       "      <td>4.218052</td>\n",
       "      <td>0</td>\n",
       "      <td>1.001410</td>\n",
       "      <td>2.0</td>\n",
       "      <td>1.022466</td>\n",
       "      <td>3.0</td>\n",
       "      <td>1.007558</td>\n",
       "      <td>28.0</td>\n",
       "      <td>1.143398</td>\n",
       "      <td>121.0</td>\n",
       "      <td>1.937905</td>\n",
       "      <td>460.0</td>\n",
       "    </tr>\n",
       "    <tr>\n",
       "      <th>1993-12-20 00:00:00-05:00</th>\n",
       "      <td>4.206170</td>\n",
       "      <td>4.301225</td>\n",
       "      <td>4.206170</td>\n",
       "      <td>4.218052</td>\n",
       "      <td>177600</td>\n",
       "      <td>4.146760</td>\n",
       "      <td>0</td>\n",
       "      <td>1.000000</td>\n",
       "      <td>1.0</td>\n",
       "      <td>1.013128</td>\n",
       "      <td>3.0</td>\n",
       "      <td>1.007553</td>\n",
       "      <td>27.0</td>\n",
       "      <td>1.141963</td>\n",
       "      <td>120.0</td>\n",
       "      <td>1.935307</td>\n",
       "      <td>459.0</td>\n",
       "    </tr>\n",
       "    <tr>\n",
       "      <th>...</th>\n",
       "      <td>...</td>\n",
       "      <td>...</td>\n",
       "      <td>...</td>\n",
       "      <td>...</td>\n",
       "      <td>...</td>\n",
       "      <td>...</td>\n",
       "      <td>...</td>\n",
       "      <td>...</td>\n",
       "      <td>...</td>\n",
       "      <td>...</td>\n",
       "      <td>...</td>\n",
       "      <td>...</td>\n",
       "      <td>...</td>\n",
       "      <td>...</td>\n",
       "      <td>...</td>\n",
       "      <td>...</td>\n",
       "      <td>...</td>\n",
       "    </tr>\n",
       "    <tr>\n",
       "      <th>2023-10-02 00:00:00-04:00</th>\n",
       "      <td>25.270000</td>\n",
       "      <td>25.450001</td>\n",
       "      <td>24.889999</td>\n",
       "      <td>25.090000</td>\n",
       "      <td>1120800</td>\n",
       "      <td>24.549999</td>\n",
       "      <td>0</td>\n",
       "      <td>0.993663</td>\n",
       "      <td>1.0</td>\n",
       "      <td>1.003119</td>\n",
       "      <td>3.0</td>\n",
       "      <td>0.909621</td>\n",
       "      <td>22.0</td>\n",
       "      <td>0.821805</td>\n",
       "      <td>113.0</td>\n",
       "      <td>0.706127</td>\n",
       "      <td>499.0</td>\n",
       "    </tr>\n",
       "    <tr>\n",
       "      <th>2023-10-03 00:00:00-04:00</th>\n",
       "      <td>24.910000</td>\n",
       "      <td>25.030001</td>\n",
       "      <td>24.410000</td>\n",
       "      <td>24.549999</td>\n",
       "      <td>1122500</td>\n",
       "      <td>24.469999</td>\n",
       "      <td>0</td>\n",
       "      <td>0.989122</td>\n",
       "      <td>0.0</td>\n",
       "      <td>0.981764</td>\n",
       "      <td>3.0</td>\n",
       "      <td>0.892472</td>\n",
       "      <td>21.0</td>\n",
       "      <td>0.805062</td>\n",
       "      <td>112.0</td>\n",
       "      <td>0.691115</td>\n",
       "      <td>498.0</td>\n",
       "    </tr>\n",
       "    <tr>\n",
       "      <th>2023-10-04 00:00:00-04:00</th>\n",
       "      <td>24.600000</td>\n",
       "      <td>24.730000</td>\n",
       "      <td>24.260000</td>\n",
       "      <td>24.469999</td>\n",
       "      <td>697600</td>\n",
       "      <td>24.430000</td>\n",
       "      <td>0</td>\n",
       "      <td>0.998368</td>\n",
       "      <td>0.0</td>\n",
       "      <td>0.979897</td>\n",
       "      <td>2.0</td>\n",
       "      <td>0.892397</td>\n",
       "      <td>20.0</td>\n",
       "      <td>0.803346</td>\n",
       "      <td>112.0</td>\n",
       "      <td>0.689056</td>\n",
       "      <td>497.0</td>\n",
       "    </tr>\n",
       "    <tr>\n",
       "      <th>2023-10-05 00:00:00-04:00</th>\n",
       "      <td>24.410000</td>\n",
       "      <td>24.580000</td>\n",
       "      <td>24.250000</td>\n",
       "      <td>24.430000</td>\n",
       "      <td>709900</td>\n",
       "      <td>24.820000</td>\n",
       "      <td>1</td>\n",
       "      <td>0.999182</td>\n",
       "      <td>0.0</td>\n",
       "      <td>0.985478</td>\n",
       "      <td>1.0</td>\n",
       "      <td>0.893743</td>\n",
       "      <td>20.0</td>\n",
       "      <td>0.802931</td>\n",
       "      <td>112.0</td>\n",
       "      <td>0.688136</td>\n",
       "      <td>496.0</td>\n",
       "    </tr>\n",
       "    <tr>\n",
       "      <th>2023-10-06 00:00:00-04:00</th>\n",
       "      <td>24.209999</td>\n",
       "      <td>24.879999</td>\n",
       "      <td>24.160000</td>\n",
       "      <td>24.820000</td>\n",
       "      <td>917500</td>\n",
       "      <td>NaN</td>\n",
       "      <td>0</td>\n",
       "      <td>1.007919</td>\n",
       "      <td>1.0</td>\n",
       "      <td>1.005999</td>\n",
       "      <td>1.0</td>\n",
       "      <td>0.910661</td>\n",
       "      <td>21.0</td>\n",
       "      <td>0.816550</td>\n",
       "      <td>113.0</td>\n",
       "      <td>0.699332</td>\n",
       "      <td>496.0</td>\n",
       "    </tr>\n",
       "  </tbody>\n",
       "</table>\n",
       "<p>7507 rows × 17 columns</p>\n",
       "</div>"
      ],
      "text/plain": [
       "                                Open       High        Low      Close  \\\n",
       "Date                                                                    \n",
       "1993-12-14 00:00:00-05:00   4.027941   4.039823   3.968532   4.027941   \n",
       "1993-12-15 00:00:00-05:00   4.063587   4.146760   4.039823   4.146760   \n",
       "1993-12-16 00:00:00-05:00   4.134880   4.206172   4.099235   4.206172   \n",
       "1993-12-17 00:00:00-05:00   4.194288   4.229934   4.158643   4.218052   \n",
       "1993-12-20 00:00:00-05:00   4.206170   4.301225   4.206170   4.218052   \n",
       "...                              ...        ...        ...        ...   \n",
       "2023-10-02 00:00:00-04:00  25.270000  25.450001  24.889999  25.090000   \n",
       "2023-10-03 00:00:00-04:00  24.910000  25.030001  24.410000  24.549999   \n",
       "2023-10-04 00:00:00-04:00  24.600000  24.730000  24.260000  24.469999   \n",
       "2023-10-05 00:00:00-04:00  24.410000  24.580000  24.250000  24.430000   \n",
       "2023-10-06 00:00:00-04:00  24.209999  24.879999  24.160000  24.820000   \n",
       "\n",
       "                            Volume   Tomorrow  Target  Close_Ratio_2  Trend_2  \\\n",
       "Date                                                                            \n",
       "1993-12-14 00:00:00-05:00   228800   4.146760       1       1.000000      0.0   \n",
       "1993-12-15 00:00:00-05:00   256000   4.206172       1       1.014535      1.0   \n",
       "1993-12-16 00:00:00-05:00   180400   4.218052       1       1.007113      2.0   \n",
       "1993-12-17 00:00:00-05:00   560400   4.218052       0       1.001410      2.0   \n",
       "1993-12-20 00:00:00-05:00   177600   4.146760       0       1.000000      1.0   \n",
       "...                            ...        ...     ...            ...      ...   \n",
       "2023-10-02 00:00:00-04:00  1120800  24.549999       0       0.993663      1.0   \n",
       "2023-10-03 00:00:00-04:00  1122500  24.469999       0       0.989122      0.0   \n",
       "2023-10-04 00:00:00-04:00   697600  24.430000       0       0.998368      0.0   \n",
       "2023-10-05 00:00:00-04:00   709900  24.820000       1       0.999182      0.0   \n",
       "2023-10-06 00:00:00-04:00   917500        NaN       0       1.007919      1.0   \n",
       "\n",
       "                           Close_Ratio_5  Trend_5  Close_Ratio_60  Trend_60  \\\n",
       "Date                                                                          \n",
       "1993-12-14 00:00:00-05:00       1.004742      2.0        0.963433      25.0   \n",
       "1993-12-15 00:00:00-05:00       1.024061      3.0        0.991615      26.0   \n",
       "1993-12-16 00:00:00-05:00       1.027278      3.0        1.005342      27.0   \n",
       "1993-12-17 00:00:00-05:00       1.022466      3.0        1.007558      28.0   \n",
       "1993-12-20 00:00:00-05:00       1.013128      3.0        1.007553      27.0   \n",
       "...                                  ...      ...             ...       ...   \n",
       "2023-10-02 00:00:00-04:00       1.003119      3.0        0.909621      22.0   \n",
       "2023-10-03 00:00:00-04:00       0.981764      3.0        0.892472      21.0   \n",
       "2023-10-04 00:00:00-04:00       0.979897      2.0        0.892397      20.0   \n",
       "2023-10-05 00:00:00-04:00       0.985478      1.0        0.893743      20.0   \n",
       "2023-10-06 00:00:00-04:00       1.005999      1.0        0.910661      21.0   \n",
       "\n",
       "                           Close_Ratio_250  Trend_250  Close_Ratio_1000  \\\n",
       "Date                                                                      \n",
       "1993-12-14 00:00:00-05:00         1.096202      120.0          1.858003   \n",
       "1993-12-15 00:00:00-05:00         1.127118      120.0          1.910294   \n",
       "1993-12-16 00:00:00-05:00         1.141713      121.0          1.935064   \n",
       "1993-12-17 00:00:00-05:00         1.143398      121.0          1.937905   \n",
       "1993-12-20 00:00:00-05:00         1.141963      120.0          1.935307   \n",
       "...                                    ...        ...               ...   \n",
       "2023-10-02 00:00:00-04:00         0.821805      113.0          0.706127   \n",
       "2023-10-03 00:00:00-04:00         0.805062      112.0          0.691115   \n",
       "2023-10-04 00:00:00-04:00         0.803346      112.0          0.689056   \n",
       "2023-10-05 00:00:00-04:00         0.802931      112.0          0.688136   \n",
       "2023-10-06 00:00:00-04:00         0.816550      113.0          0.699332   \n",
       "\n",
       "                           Trend_1000  \n",
       "Date                                   \n",
       "1993-12-14 00:00:00-05:00       457.0  \n",
       "1993-12-15 00:00:00-05:00       458.0  \n",
       "1993-12-16 00:00:00-05:00       459.0  \n",
       "1993-12-17 00:00:00-05:00       460.0  \n",
       "1993-12-20 00:00:00-05:00       459.0  \n",
       "...                               ...  \n",
       "2023-10-02 00:00:00-04:00       499.0  \n",
       "2023-10-03 00:00:00-04:00       498.0  \n",
       "2023-10-04 00:00:00-04:00       497.0  \n",
       "2023-10-05 00:00:00-04:00       496.0  \n",
       "2023-10-06 00:00:00-04:00       496.0  \n",
       "\n",
       "[7507 rows x 17 columns]"
      ]
     },
     "execution_count": 35,
     "metadata": {},
     "output_type": "execute_result"
    }
   ],
   "source": [
    "sp500"
   ]
  },
  {
   "cell_type": "code",
   "execution_count": 37,
   "id": "7c7fafbd",
   "metadata": {},
   "outputs": [],
   "source": [
    "model = RandomForestClassifier(n_estimators=200, min_samples_split=50, random_state=1)"
   ]
  },
  {
   "cell_type": "code",
   "execution_count": 46,
   "id": "e87e2a86",
   "metadata": {},
   "outputs": [],
   "source": [
    "def predict(train, test, predictors, models):\n",
    "    model.fit(train[predictors], train[\"Target\"])\n",
    "    preds = model.predict_proba(test[predictors])[:,1]\n",
    "    preds[preds >=.6] = 1\n",
    "    preds[preds < .6] = 0\n",
    "    preds = pd.Series(preds, index=test.index, name=\"Predictions\")\n",
    "    combined = pd.concat([test[\"Target\"],preds], axis=1)\n",
    "    return combined"
   ]
  },
  {
   "cell_type": "code",
   "execution_count": 47,
   "id": "d0a35c62",
   "metadata": {},
   "outputs": [
    {
     "data": {
      "text/plain": [
       "['Close_Ratio_2',\n",
       " 'Trend_2',\n",
       " 'Close_Ratio_5',\n",
       " 'Trend_5',\n",
       " 'Close_Ratio_60',\n",
       " 'Trend_60',\n",
       " 'Close_Ratio_250',\n",
       " 'Trend_250',\n",
       " 'Close_Ratio_1000',\n",
       " 'Trend_1000']"
      ]
     },
     "execution_count": 47,
     "metadata": {},
     "output_type": "execute_result"
    }
   ],
   "source": [
    "new_predictors"
   ]
  },
  {
   "cell_type": "code",
   "execution_count": 48,
   "id": "033be3ea",
   "metadata": {},
   "outputs": [],
   "source": [
    "predictions = backtest(sp500, model, new_predictors)"
   ]
  },
  {
   "cell_type": "code",
   "execution_count": 49,
   "id": "bb86c719",
   "metadata": {},
   "outputs": [
    {
     "data": {
      "text/plain": [
       "Predictions\n",
       "0.0    4497\n",
       "1.0     510\n",
       "Name: count, dtype: int64"
      ]
     },
     "execution_count": 49,
     "metadata": {},
     "output_type": "execute_result"
    }
   ],
   "source": [
    "predictions[\"Predictions\"].value_counts()"
   ]
  },
  {
   "cell_type": "code",
   "execution_count": 51,
   "id": "7445f150",
   "metadata": {},
   "outputs": [
    {
     "data": {
      "text/plain": [
       "0.5372549019607843"
      ]
     },
     "execution_count": 51,
     "metadata": {},
     "output_type": "execute_result"
    }
   ],
   "source": [
    "precision_score(predictions[\"Target\"], predictions[\"Predictions\"])"
   ]
  },
  {
   "cell_type": "code",
   "execution_count": 52,
   "id": "98132fd6",
   "metadata": {},
   "outputs": [
    {
     "data": {
      "text/plain": [
       "Target\n",
       "1    0.512483\n",
       "0    0.487517\n",
       "Name: count, dtype: float64"
      ]
     },
     "execution_count": 52,
     "metadata": {},
     "output_type": "execute_result"
    }
   ],
   "source": [
    "predictions[\"Target\"].value_counts() / predictions.shape[0]"
   ]
  },
  {
   "cell_type": "code",
   "execution_count": 53,
   "id": "69bd8529",
   "metadata": {},
   "outputs": [
    {
     "data": {
      "text/html": [
       "<div>\n",
       "<style scoped>\n",
       "    .dataframe tbody tr th:only-of-type {\n",
       "        vertical-align: middle;\n",
       "    }\n",
       "\n",
       "    .dataframe tbody tr th {\n",
       "        vertical-align: top;\n",
       "    }\n",
       "\n",
       "    .dataframe thead th {\n",
       "        text-align: right;\n",
       "    }\n",
       "</style>\n",
       "<table border=\"1\" class=\"dataframe\">\n",
       "  <thead>\n",
       "    <tr style=\"text-align: right;\">\n",
       "      <th></th>\n",
       "      <th>Target</th>\n",
       "      <th>Predictions</th>\n",
       "    </tr>\n",
       "    <tr>\n",
       "      <th>Date</th>\n",
       "      <th></th>\n",
       "      <th></th>\n",
       "    </tr>\n",
       "  </thead>\n",
       "  <tbody>\n",
       "    <tr>\n",
       "      <th>2003-11-14 00:00:00-05:00</th>\n",
       "      <td>0</td>\n",
       "      <td>0.0</td>\n",
       "    </tr>\n",
       "    <tr>\n",
       "      <th>2003-11-17 00:00:00-05:00</th>\n",
       "      <td>0</td>\n",
       "      <td>0.0</td>\n",
       "    </tr>\n",
       "    <tr>\n",
       "      <th>2003-11-18 00:00:00-05:00</th>\n",
       "      <td>1</td>\n",
       "      <td>0.0</td>\n",
       "    </tr>\n",
       "    <tr>\n",
       "      <th>2003-11-19 00:00:00-05:00</th>\n",
       "      <td>0</td>\n",
       "      <td>0.0</td>\n",
       "    </tr>\n",
       "    <tr>\n",
       "      <th>2003-11-20 00:00:00-05:00</th>\n",
       "      <td>1</td>\n",
       "      <td>0.0</td>\n",
       "    </tr>\n",
       "    <tr>\n",
       "      <th>...</th>\n",
       "      <td>...</td>\n",
       "      <td>...</td>\n",
       "    </tr>\n",
       "    <tr>\n",
       "      <th>2023-10-02 00:00:00-04:00</th>\n",
       "      <td>0</td>\n",
       "      <td>0.0</td>\n",
       "    </tr>\n",
       "    <tr>\n",
       "      <th>2023-10-03 00:00:00-04:00</th>\n",
       "      <td>0</td>\n",
       "      <td>0.0</td>\n",
       "    </tr>\n",
       "    <tr>\n",
       "      <th>2023-10-04 00:00:00-04:00</th>\n",
       "      <td>0</td>\n",
       "      <td>1.0</td>\n",
       "    </tr>\n",
       "    <tr>\n",
       "      <th>2023-10-05 00:00:00-04:00</th>\n",
       "      <td>1</td>\n",
       "      <td>1.0</td>\n",
       "    </tr>\n",
       "    <tr>\n",
       "      <th>2023-10-06 00:00:00-04:00</th>\n",
       "      <td>0</td>\n",
       "      <td>0.0</td>\n",
       "    </tr>\n",
       "  </tbody>\n",
       "</table>\n",
       "<p>5007 rows × 2 columns</p>\n",
       "</div>"
      ],
      "text/plain": [
       "                           Target  Predictions\n",
       "Date                                          \n",
       "2003-11-14 00:00:00-05:00       0          0.0\n",
       "2003-11-17 00:00:00-05:00       0          0.0\n",
       "2003-11-18 00:00:00-05:00       1          0.0\n",
       "2003-11-19 00:00:00-05:00       0          0.0\n",
       "2003-11-20 00:00:00-05:00       1          0.0\n",
       "...                           ...          ...\n",
       "2023-10-02 00:00:00-04:00       0          0.0\n",
       "2023-10-03 00:00:00-04:00       0          0.0\n",
       "2023-10-04 00:00:00-04:00       0          1.0\n",
       "2023-10-05 00:00:00-04:00       1          1.0\n",
       "2023-10-06 00:00:00-04:00       0          0.0\n",
       "\n",
       "[5007 rows x 2 columns]"
      ]
     },
     "execution_count": 53,
     "metadata": {},
     "output_type": "execute_result"
    }
   ],
   "source": [
    "predictions"
   ]
  },
  {
   "cell_type": "code",
   "execution_count": null,
   "id": "4001eefb",
   "metadata": {},
   "outputs": [],
   "source": []
  }
 ],
 "metadata": {
  "kernelspec": {
   "display_name": "Python 3 (ipykernel)",
   "language": "python",
   "name": "python3"
  },
  "language_info": {
   "codemirror_mode": {
    "name": "ipython",
    "version": 3
   },
   "file_extension": ".py",
   "mimetype": "text/x-python",
   "name": "python",
   "nbconvert_exporter": "python",
   "pygments_lexer": "ipython3",
   "version": "3.9.16"
  }
 },
 "nbformat": 4,
 "nbformat_minor": 5
}
